{
  "cells": [
    {
      "cell_type": "markdown",
      "metadata": {
        "id": "BHYN5ze2q49z"
      },
      "source": [
        "# Семинар 1. Введение в машинное обучение и инструменты data science\n",
        "\n",
        "Данный семинар будет посвящен основным инструментам анализа данных.\n",
        "\n",
        "В то время как многие из Вас почувствуют некоторую скуку при виде темы данного семинара, остальные могут почувствовать ужас и страх перед неизвестным. В случае, если после семинара у Вас осталось ощущение, что Вы не готовы, отбросьте сомнения и немного потренируйтесь на предоставленных дополнительных материалах и/или любых открытых платформах в интернете (тысячи их), навык написания кода на питоне нарабатывается крайне быстро.\n",
        "\n",
        "### Основные инструменты, с которыми вы столкнетесь в рамках данного курса\n",
        "\n",
        "* [Colab](https://colab.research.google.com/#scrollTo=-Rh3-Vt9Nev9)  -  на основной странице есть несколько полезных подсказок\n",
        "* [Google](https://www.google.com/) & [StackOverflow](https://stackoverflow.com/) - тут вы знаете, что делать :) Просьба не слепо копировать ответы, а **перепечатывать** код и **понимать**, что в нём происходит.\n",
        "* [NumPy](https://numpy.org/doc/stable/user/) - посмотрите *quickstart* & *basics*, *array creation* и *indexing* тоже важны.\n",
        "* [Pandas](https://pandas.pydata.org/docs/user_guide/) - полное описание фичей пандаса. Просто ищите нужный функционал и вычитывайте, как оно работает, если у вас не получаеся что-то сделать.\n",
        "* [Matplotlib](https://matplotlib.org/stable/tutorials/index.html) & [Plotly](https://plotly.com/python/) - основные графически библиотеки. В большинстве случаев, вам хватит базового туториала + ответов с stackoverflow/google.\n",
        "* [Seaborn](https://seaborn.pydata.org/tutorial/introduction.html) - надстройка над Matplotlib, в целом позволяет делать очень приятные графики.\n",
        "* [Scikit-learn](https://scikit-learn.org/stable/user_guide.html) - маст-хэв библиотека любого начинающего датасаентиста и ученого. Отлично подходит для проведения исследований и обучения, но не годится к использованию в индустрии. Внутри есть юзергайд и большое количество туториалов по различным ML аспектам.\n",
        "* [Pytorch](https://pytorch.org/tutorials/beginner/basics/intro.html) - основная библиотека для работы с нейронными сетями.\n",
        "\n",
        "\n",
        "Форма для анонимных отзывов: [тут](https://docs.google.com/forms/d/e/1FAIpQLScm03PbkOdoX01NdD9ZTkDJjbTnPh1N_5JTMfh6_8aK9bQVFA/viewform?usp=sharing&ouid=110553135665232461230)"
      ]
    },
    {
      "cell_type": "markdown",
      "source": [
        "## Небольшое введение - можно пропустить, так как всему научитесь на лекциях :)\n",
        "\n",
        "Для начала давайте определим, какие задачи мы стремимся решить, применяя методы машинного обучения. В школе нас учили, что взаимосвязь между расстоянием, скоростью и временем описывается довольно простым физическим законом: расстояние, деленное на время, дает нам скорость.\n",
        "\n",
        "$$ V = \\frac{S}{t} $$\n",
        "\n",
        "Однако, когда мы думаем о взаимосвязи между ценой квартиры в Москве и её площадью, местоположением, типом дома и удаленностью от метро, не существует явного физического закона, который мог бы определить цену, хотя явная зависимость, несомненно, есть. Эту зависимость часто называют **целевой функцией**:\n",
        "\n",
        "$$ y : \\mathbb{X} → \\mathbb{Y}, \\\\ \\text{где} \\\\ \\mathbb{X} - \\text{множество всех возможных объектов} \\\\ \\mathbb{Y} - \\text{множество оветов} $$\n",
        "\n",
        "Объект — это то, для чего мы хотим сделать прогноз, в нашем случае — квартира. Ответ для нашего объекта — это цена. Чтобы делать уверенные прогнозы, нам необходимо **восстановить целевую функцию по имеющимся данным**.\n",
        "\n",
        "Очевидно, что у нас нет данных (включая цены) по всем квартирам Москвы, а только по некоторому их подмножеству. Это подмножество часто называют **обучающей выборкой (training set/sample)** и обозначают как:\n",
        "\n",
        "$$ X = \\{(x_1,y_1),\\dots,(x_{\\ell},y_{\\ell})\\} \\\\ y_i = y(x_i), i=1,\\dots,\\ell$$\n",
        "\n",
        "Здесь $x_i$ — это отдельный объект, $y_i$ — ответ для него, а $\\ell$ — размер обучающей выборки.\n",
        "\n",
        "Чтобы быть обработанным алгоритмом, каждый объект описывается набором признаков (features, predictors). Вектор всех признаков объекта $x$ мы называем его признаковым описанием:\n",
        "\n",
        "$$ x_i = \\{ x_{i1}, \\dots, x_{id} \\},\\\\ i=1,\\dots,\\ell,\\\\ d\\text{ - кол-во признаков}$$\n",
        "\n",
        "Признаки бывают самых разных типов:\n",
        "\n",
        "* Бинарные (двоичные): $ \\in {0,1}$\n",
        "\n",
        "* Числовые (количественные): $ \\in \\mathbb{R} $\n",
        "\n",
        "* Категориальные (номинальные): $ \\in { c_1, \\dots, c_n} $ (нет порядка, нет метрики)\n",
        "\n",
        "* Порядковые (ординальные): $ \\in { c_1, \\dots, c_n } $ (есть порядок, но нет метрики)\n",
        "\n",
        "* Множественные: У вас есть некоторое уникальное множество $ C = { c_1, \\dots, c_n} $, и ваш признак является его подмножеством: $\\subset C$\n",
        "\n",
        "* Сложные признаки, такие как изображения, аудиодорожки и т.д.\n",
        "\n",
        "Множество ответов $\\mathbb{Y}$ определяет, с каким типом задачи мы имеем дело:\n",
        "\n",
        "- $\\mathbb{Y} = \\mathbb{R}$ — Задача регрессии (цена в нашем примере)\n",
        "\n",
        "- $\\mathbb{Y} = {1, \\dots, K}$ — Задача многоклассовой классификации\n",
        "\n",
        "- $\\mathbb{Y} = {0, 1}$ — Задача бинарной классификации\n",
        "\n",
        "- $\\mathbb{Y} = {0, 1}^K$ — Задача многоклассовой классификации с несколькими метками (multilabel classification) (объект может иметь несколько меток)\n",
        "\n",
        "<center> <img src=\"https://www.engineersgarage.com/wp-content/uploads/2022/03/TCH45-01.png\" width=500> </center>\n",
        "\n",
        "Это основные типы задач в обучении с учителем (supervised learning), что означает наличие правильных ответов для вашей обучающей выборки.\n",
        "\n",
        "Однако ответы не всегда явно определены или известны. Парадигма обучения шаблонам по немеченым данным обычно называется обучением без учителя (unsupervised learning):\n",
        "\n",
        "- Кластеризация\n",
        "\n",
        "- Понижение размерности\n",
        "\n",
        "- Рекомендательные системы\n",
        "\n",
        "- Визуализация\n",
        "\n",
        "<center> <img src=\"https://www.researchgate.net/publication/344783581/figure/fig2/AS:949012773498885@1603273685950/Two-main-applications-of-unsupervised-learning-clustering-and-dimensionality-reduction.png\" width=550> </center>\n",
        "\n",
        "Еще одна сложная постановка задачи называется обучением с подкреплением (reinforcement learning), которое учит алгоритм максимизировать некое вознаграждение, меняя стратегию выбора конкретных действий. Такие приемы часто используются при разработке автономных транспортных средств. Однако в этом курсе мы не будем фокусировать на этом типе задач (но в Вышке есть курсы, посвященные этому!)\n",
        "\n",
        "Вернемся к нашему примеру, который относится к области обучения с учителем.\n",
        "\n",
        "Наша цель — восстановить целевую функцию $y$, найдя её приближение, часто называемое решающей функцией / алгоритмом / прогнозной моделью:\n",
        "\n",
        "$$ a: \\mathbb{X} → \\mathbb{Y}$$\n",
        "\n",
        "Подойдет не любой алгоритм. Чтобы оценить алгоритм с точки зрения нашей задачи, мы должны ввести функцию потерь (loss function), которая измеряет производительность модели машинного обучения на данном наборе данных. Мы стремимся минимизировать эту функцию, поскольку она представляет собой своего рода ошибку, разницу между предсказаниями модели и истинными значениями.\n",
        "\n",
        "В задаче регрессии (которая подходит для нашего примера) одной из самых популярных функций потерь является среднеквадратическая ошибка (MSE - Mean Squared Error):\n",
        "\n",
        "$$ Q(a,X) = \\frac{1}{\\ell}\\sum\\limits_{i=1}^{\\ell}(a(x_i)-y_i)^2$$\n",
        "\n",
        "Потери (loss) — это штраф за плохой прогноз. То есть, loss — это число, показывающее, насколько предсказание модели было плохим на одном примере. Если предсказание модели идеально, потери равны нулю; в противном случае потери больше. Цель обучения модели — найти такой набор весов и смещений модели, который в среднем даст низкие потери на всех примерах.\n",
        "\n",
        "<center>\n",
        "<img src=\"https://developers.google.com/machine-learning/crash-course/images/LossSideBySide.png\" width=600>\n",
        "</center>\n",
        "\n",
        "Определение функции потерь чрезвычайно важно, поскольку она должна представлять ошибку именно в терминах нашей задачи. Неправильно выбранная функция потерь, не соответствующая особенностям данных, не принесет желаемого результата.\n",
        "\n",
        "Допустим, мы решили, что для задачи предсказания цены квартиры достаточно довольно простой модели, такой как **линейная регрессия**. Вот краткое напоминание, как она выглядит:\n",
        "\n",
        "$$ a(x) = w_0 + \\sum\\limits_{j=1}^d w_j x_j$$\n",
        "\n",
        "Это линейная комбинация значений признаков ($x$) с некоторыми весами ($w$) и смещением (bias, $w_0$). Процесс нахождения наилучших весов модели $a$ называется обучением модели. Позже в курсе мы обсудим, как именно мы обучаем различные модели.\n",
        "\n",
        "Однако прежде чем начать процесс обучения, неплохо бы взглянуть на наши данные и проверить, все ли в порядке. Процесс очистки и модификации данных, чтобы сделать их подходящими для модели, называется предобработкой данных (data pre-processing). Он включает в себя такие вещи, как создание dummy-переменных, избавление от шума и выбросов, работа с пропущенными значениями (NaN) и масштабирование данных, если это необходимо. Этот процесс может значительно повысить производительность модели. Мы подробнее обсудим его позже.\n",
        "\n",
        "И, конечно, после обучения нашей модели мы должны оценить, насколько хорошо она работает, что можно сделать, например, запустив модель на данных, которые она раньше не видела (именно поэтому мы обычно разбиваем наш набор данных на обучающую и тестовую выборки).\n",
        "\n",
        "Общий процесс решения задачи машинного обучения можно описать следующим образом:\n",
        "\n",
        "- Постановка задачи\n",
        "\n",
        "- Разведочный анализ данных (Exploratory Data Analysis - EDA)\n",
        "\n",
        "- Подготовка обучающей и тестовой выборок\n",
        "\n",
        "- Выбор функции потерь\n",
        "\n",
        "- Предобработка данных\n",
        "\n",
        "- Выбор и обучение модели\n",
        "\n",
        "- Оценка модели\n",
        "\n"
      ],
      "metadata": {
        "id": "mjIHWH1cADok"
      }
    },
    {
      "cell_type": "markdown",
      "source": [
        "---\n",
        "\n",
        "<font color='lightcolor' size=5> Пример 1 </font>\n",
        "\n",
        "Прогнозирование стоимости квартиры в Москве.\n",
        "\n",
        "**Объект**: квартира\n",
        "\n",
        "**Примеры признаков**:\n",
        "\n",
        "- Бинарные: наличие балкона, наличие лифта, охрана\n",
        "\n",
        "- Числовые: количество комнат, площадь, удаленность от метро (в минутах или метрах)\n",
        "\n",
        "- Категориальные: район, тип дома (панельный, кирпичный, монолит)\n",
        "\n",
        "**Особенности задачи**:\n",
        "\n",
        "- Неоднородная выборка (квартиры сильно различаются), цена может меняться со временем.\n",
        "\n",
        "- Линейная модель потребует преобразования признаков (например, для учета нелинейной зависимости цены от расстояния до центра).\n",
        "\n",
        "---\n",
        "\n",
        "<font color='lightcolor' size=5> Пример 2 </font>\n",
        "\n",
        "Пациент поступает в токсикологическое отделение, и необходимо быстро принять решение о дальнейших шагах в лечении.\n",
        "\n",
        "**Объект**: пациент в конкретный момент времени\n",
        "\n",
        "**Классы (Ответы)**: диагноз / метод лечения / исход заболевания (выздоровление, осложнение и т.д.)\n",
        "\n",
        "**Примеры признаков:**\n",
        "\n",
        "- Бинарные: пол, головная боль, слабость, тошнота\n",
        "\n",
        "- Числовые: возраст, пульс, артериальное давление, уровень гемоглобина\n",
        "\n",
        "- Порядковые: тяжесть состояния (например, шкала комы Глазго)\n",
        "\n",
        "**Особенности задачи:**\n",
        "\n",
        "- Много пропущенных значений (не все анализы или осмотры проведены на момент поступления).\n",
        "\n",
        "- Небольшой объем доступных данных (относительно мало пациентов с конкретным отравлением).\n",
        "\n",
        "- Алгоритм должен не только делать точные прогнозы, но и быть интерпретируемым (Почему? Чтобы врач мог понять логику решения и доверять ему, особенно в критической ситуации).\n",
        "\n",
        "Необходима оценка вероятности того или иного исхода для оценки рисков.\n",
        "\n",
        "---\n",
        "\n",
        "<font color='lightcolor' size=5> Пример 3 </font>\n",
        "\n",
        "Физическое лицо планирует взять кредит в банке, и банку нужно определить, выдавать кредит этому лицу или нет.\n",
        "\n",
        "**Объект:** кредитная заявка\n",
        "\n",
        "**Классы:** Надёжный клиент / Ненадёжный клиент (или Выдать / Не выдавать)\n",
        "\n",
        "**Примеры признаков:**\n",
        "\n",
        "- Бинарные: пол, наличие автомобиля\n",
        "\n",
        "- Категориальные: город проживания, профессия\n",
        "\n",
        "- Числовые: возраст, зарплата, трудовой стаж, размер кредита\n",
        "\n",
        "- Порядковые: уровень образования, должность\n",
        "\n",
        "**Особенности задачи:**\n",
        "\n",
        "Часто требуется оценить вероятность дефолта $P(\\text{дефолт})$ (вероятность того, что клиент не вернет кредит), а не просто дать бинарный ответ. Это позволяет ранжировать клиентов по риску и рассчитывать резервы."
      ],
      "metadata": {
        "id": "G8NafRFGDXzP"
      }
    },
    {
      "cell_type": "markdown",
      "source": [
        "## Python\n",
        "\n",
        "Главное:\n",
        "- Прост в освоении\n",
        "- Высокоуровневый\n",
        "- Интерпретируемый\n",
        "- Обладает динамической типизацией\n",
        "- Идеален для вас\n",
        "\n",
        "Несколько фактов, чтобы уменьшить число ваших ошибок:\n",
        "\n",
        "* В Python присваивание переменной значения не создает копию объекта. Вместо этого, переменная просто становится ссылкой на этот объект.\n",
        "\n",
        "* В Python есть изменяемые и неизменяемые типы. Изменяемые отличаются тем, что их содержимое можно сменить, не изменив ссылку на них. Неизменяемые объекты приходится пересоздавать, чтобы отразить изменения состояния. При этом все старые ссылки не видят это обновление, потому что указывают на старый объект.\n",
        "\n",
        "Если вы впервые знакомитесь с языком, то просмотрите ячейки ниже:"
      ],
      "metadata": {
        "id": "Fl9zFQqm77Qb"
      }
    },
    {
      "cell_type": "code",
      "source": [
        "print(\"1. Переменные и типы данных\")\n",
        "# Создаем переменные\n",
        "patient_name = \"Анна Иванова\"\n",
        "patient_age = 35\n",
        "is_smoker = False\n",
        "rna_expression_level = 25.8\n",
        "\n",
        "# Проверяем тип данных каждой переменной\n",
        "print(\"Имя:\", patient_name, type(patient_name))\n",
        "print(\"Возраст:\", patient_age, type(patient_age))\n",
        "print(\"Курит:\", is_smoker, type(is_smoker))\n",
        "print(\"Уровень экспрессии:\", rna_expression_level, type(rna_expression_level))\n",
        "print() # Просто пустая строка для красоты"
      ],
      "metadata": {
        "colab": {
          "base_uri": "https://localhost:8080/"
        },
        "id": "v56KfBdqGr_S",
        "outputId": "1db318fe-1bd9-40ac-ddea-4f6e382dd4e8"
      },
      "execution_count": null,
      "outputs": [
        {
          "output_type": "stream",
          "name": "stdout",
          "text": [
            "1. Переменные и типы данных\n",
            "Имя: Анна Иванова <class 'str'>\n",
            "Возраст: 35 <class 'int'>\n",
            "Курит: False <class 'bool'>\n",
            "Уровень экспрессии: 25.8 <class 'float'>\n",
            "\n"
          ]
        }
      ]
    },
    {
      "cell_type": "code",
      "source": [
        "print(\"2. Списки и Словари\")\n",
        "\n",
        "# Список - как пронумерованный список в блокноте. Элементы имеют порядок (индекс).\n",
        "# Список - это упорядоченная изменяемая (mutable) коллекция объектов произвольных типов.\n",
        "genes = ['TP53', 'BRCA1', 'EGFR', 'MYC']\n",
        "print(\"Список генов:\", genes)\n",
        "print(\"Первый ген в списке:\", genes[0]) # В Python отсчет начинается с 0!\n",
        "print(\"Последний ген:\", genes[-1]) # Индекс -1 всегда указывает на последний элемент"
      ],
      "metadata": {
        "colab": {
          "base_uri": "https://localhost:8080/"
        },
        "id": "Bd712ck_GtqF",
        "outputId": "efc8bbf8-af73-4f5e-f1fc-15bb272d7c42"
      },
      "execution_count": null,
      "outputs": [
        {
          "output_type": "stream",
          "name": "stdout",
          "text": [
            "2. Списки и Словари\n",
            "Список генов: ['TP53', 'BRCA1', 'EGFR', 'MYC']\n",
            "Первый ген в списке: TP53\n",
            "Последний ген: MYC\n"
          ]
        }
      ]
    },
    {
      "cell_type": "code",
      "source": [
        "# Словарь - как карточка пациента. У каждого значения есть свой ключ-метка.\n",
        "patient_record = {\n",
        "    'id': 'P-1001',\n",
        "    'age': 42,\n",
        "    'diagnosis': 'Меланома',\n",
        "    'mutations': ['BRAF V600E', 'CDKN2A'],\n",
        "    'is_alive': True\n",
        "}\n",
        "print(\"\\nСловарь пациента:\")\n",
        "print(\"ID пациента:\", patient_record['id'])\n",
        "print(\"Возраст:\", patient_record['age'])\n",
        "print(\"Список мутаций:\", patient_record['mutations'])\n",
        "print(\"Мутация №1:\", patient_record['mutations'][0])\n",
        "print()"
      ],
      "metadata": {
        "colab": {
          "base_uri": "https://localhost:8080/"
        },
        "id": "BWjXvjMGGx5c",
        "outputId": "beb5edf0-485e-4ca4-c201-e63fbb2f7989"
      },
      "execution_count": null,
      "outputs": [
        {
          "output_type": "stream",
          "name": "stdout",
          "text": [
            "\n",
            "Словарь пациента:\n",
            "ID пациента: P-1001\n",
            "Возраст: 42\n",
            "Список мутаций: ['BRAF V600E', 'CDKN2A']\n",
            "Мутация №1: BRAF V600E\n",
            "\n"
          ]
        }
      ]
    },
    {
      "cell_type": "code",
      "source": [
        "print(\"3. Функции и Циклы\")\n",
        "\n",
        "# Создаем функцию. Она принимает последовательность ДНК и возвращает ее длину.\n",
        "def calculate_dna_length(sequence):\n",
        "    \"\"\"Эта функция вычисляет длину DNA последовательности.\"\"\"\n",
        "    length = len(sequence)\n",
        "    return length\n",
        "\n",
        "# Используем (вызываем) функцию\n",
        "dna_seq = \"ATCGATGCTAGCTAG\"\n",
        "seq_length = calculate_dna_length(dna_seq)\n",
        "print(f\"Длина последовательности '{dna_seq}': {seq_length} нуклеотидов\")\n",
        "\n",
        "# Цикл for: выполняем действие для каждого элемента в списке\n",
        "print(\"\\nЦикл for:\")\n",
        "for gene in genes: # Для каждого гена в списке genes...\n",
        "    length = len(gene)          # ...вычислить длину его названия...\n",
        "    print(f\"Ген {gene} состоит из {length} букв\") # ... и напечатать.\n",
        "\n",
        "print()"
      ],
      "metadata": {
        "colab": {
          "base_uri": "https://localhost:8080/"
        },
        "id": "vI2lhjuOG3EW",
        "outputId": "d781cb25-f588-4fd9-ef6d-c251f449ae2a"
      },
      "execution_count": null,
      "outputs": [
        {
          "output_type": "stream",
          "name": "stdout",
          "text": [
            "3. Функции и Циклы\n",
            "Длина последовательности 'ATCGATGCTAGCTAG': 15 нуклеотидов\n",
            "\n",
            "Цикл for:\n",
            "Ген TP53 состоит из 4 букв\n",
            "Ген BRCA1 состоит из 5 букв\n",
            "Ген EGFR состоит из 4 букв\n",
            "Ген MYC состоит из 3 букв\n",
            "\n"
          ]
        }
      ]
    },
    {
      "cell_type": "code",
      "source": [
        "print(\"4. List Comprehensions (Красивый и быстрый способ создания списков)\")\n",
        "\n",
        "# Задача: создать список квадратов чисел от 0 до 4.\n",
        "# Способ 1: Классический цикл for с append\n",
        "squares_loop = []\n",
        "for num in range(5):\n",
        "    squares_loop.append(num ** 2)\n",
        "print(\"Создали циклом:\", squares_loop)\n",
        "\n",
        "# Способ 2: List Comprehension (делаем то же самое в одну строку)\n",
        "squares_comp = [num ** 2 for num in range(5) if num == 2]\n",
        "print(\"Создали list comprehension:\", squares_comp)\n",
        "\n",
        "# только четные квадраты\n",
        "even_squares = [num ** 2 for num in range(10) if num % 2 == 0]\n",
        "print(\"Четные квадраты:\", even_squares)\n",
        "\n",
        "# делаем все названия генов в верхнем регистре\n",
        "genes_upper = [gene.upper() for gene in genes]\n",
        "print(\"Гены в верхнем регистре:\", genes_upper)\n",
        "print()"
      ],
      "metadata": {
        "colab": {
          "base_uri": "https://localhost:8080/"
        },
        "id": "jq3ITRVnHA30",
        "outputId": "243035cb-f3ee-4728-8a1e-b752cecda019"
      },
      "execution_count": null,
      "outputs": [
        {
          "output_type": "stream",
          "name": "stdout",
          "text": [
            "4. List Comprehensions (Красивый и быстрый способ создания списков)\n",
            "Создали циклом: [0, 1, 4, 9, 16]\n",
            "Создали list comprehension: [0, 1, 4, 9, 16]\n",
            "Четные квадраты: [0, 4, 16, 36, 64]\n",
            "Гены в верхнем регистре: ['TP53', 'BRCA1', 'EGFR', 'MYC']\n",
            "\n"
          ]
        }
      ]
    },
    {
      "cell_type": "markdown",
      "source": [
        "## Pandas\n",
        "\n",
        "Pandas предоставляет высокоуровневые структуры данных и инструменты для эффективной обработки структурных (табличных) данных. Основной объект — DataFrame."
      ],
      "metadata": {
        "id": "HJPA0yc68su0"
      }
    },
    {
      "cell_type": "code",
      "source": [
        "import pandas as pd\n",
        "\n",
        "# 1. Создадим небольшой DataFrame \"как бы\" с клиническими данными\n",
        "data = {\n",
        "    'patient_id': ['P001', 'P002', 'P003', 'P004'],\n",
        "    'age': [45, 62, 38, 55],\n",
        "    'disease': ['Yes', 'No', 'Yes', 'No'],\n",
        "    'expression_gene_x': [10.5, 2.3, 15.6, 3.1]\n",
        "}\n",
        "df = pd.DataFrame(data)\n",
        "print(\"Наша маленькая таблица с данными:\")\n",
        "display(df) # display() выводит таблицу красиво в Colab"
      ],
      "metadata": {
        "colab": {
          "base_uri": "https://localhost:8080/",
          "height": 192
        },
        "id": "SfW66LbxHYrW",
        "outputId": "503632c1-a8ab-4685-d872-15ab8a2fe897"
      },
      "execution_count": null,
      "outputs": [
        {
          "output_type": "stream",
          "name": "stdout",
          "text": [
            "Наша маленькая таблица с данными:\n"
          ]
        },
        {
          "output_type": "display_data",
          "data": {
            "text/plain": [
              "  patient_id  age disease  expression_gene_x\n",
              "0       P001   45     Yes               10.5\n",
              "1       P002   62      No                2.3\n",
              "2       P003   38     Yes               15.6\n",
              "3       P004   55      No                3.1"
            ],
            "text/html": [
              "\n",
              "  <div id=\"df-baf4e435-ab12-45c5-a702-dc16dc1b988a\" class=\"colab-df-container\">\n",
              "    <div>\n",
              "<style scoped>\n",
              "    .dataframe tbody tr th:only-of-type {\n",
              "        vertical-align: middle;\n",
              "    }\n",
              "\n",
              "    .dataframe tbody tr th {\n",
              "        vertical-align: top;\n",
              "    }\n",
              "\n",
              "    .dataframe thead th {\n",
              "        text-align: right;\n",
              "    }\n",
              "</style>\n",
              "<table border=\"1\" class=\"dataframe\">\n",
              "  <thead>\n",
              "    <tr style=\"text-align: right;\">\n",
              "      <th></th>\n",
              "      <th>patient_id</th>\n",
              "      <th>age</th>\n",
              "      <th>disease</th>\n",
              "      <th>expression_gene_x</th>\n",
              "    </tr>\n",
              "  </thead>\n",
              "  <tbody>\n",
              "    <tr>\n",
              "      <th>0</th>\n",
              "      <td>P001</td>\n",
              "      <td>45</td>\n",
              "      <td>Yes</td>\n",
              "      <td>10.5</td>\n",
              "    </tr>\n",
              "    <tr>\n",
              "      <th>1</th>\n",
              "      <td>P002</td>\n",
              "      <td>62</td>\n",
              "      <td>No</td>\n",
              "      <td>2.3</td>\n",
              "    </tr>\n",
              "    <tr>\n",
              "      <th>2</th>\n",
              "      <td>P003</td>\n",
              "      <td>38</td>\n",
              "      <td>Yes</td>\n",
              "      <td>15.6</td>\n",
              "    </tr>\n",
              "    <tr>\n",
              "      <th>3</th>\n",
              "      <td>P004</td>\n",
              "      <td>55</td>\n",
              "      <td>No</td>\n",
              "      <td>3.1</td>\n",
              "    </tr>\n",
              "  </tbody>\n",
              "</table>\n",
              "</div>\n",
              "    <div class=\"colab-df-buttons\">\n",
              "\n",
              "  <div class=\"colab-df-container\">\n",
              "    <button class=\"colab-df-convert\" onclick=\"convertToInteractive('df-baf4e435-ab12-45c5-a702-dc16dc1b988a')\"\n",
              "            title=\"Convert this dataframe to an interactive table.\"\n",
              "            style=\"display:none;\">\n",
              "\n",
              "  <svg xmlns=\"http://www.w3.org/2000/svg\" height=\"24px\" viewBox=\"0 -960 960 960\">\n",
              "    <path d=\"M120-120v-720h720v720H120Zm60-500h600v-160H180v160Zm220 220h160v-160H400v160Zm0 220h160v-160H400v160ZM180-400h160v-160H180v160Zm440 0h160v-160H620v160ZM180-180h160v-160H180v160Zm440 0h160v-160H620v160Z\"/>\n",
              "  </svg>\n",
              "    </button>\n",
              "\n",
              "  <style>\n",
              "    .colab-df-container {\n",
              "      display:flex;\n",
              "      gap: 12px;\n",
              "    }\n",
              "\n",
              "    .colab-df-convert {\n",
              "      background-color: #E8F0FE;\n",
              "      border: none;\n",
              "      border-radius: 50%;\n",
              "      cursor: pointer;\n",
              "      display: none;\n",
              "      fill: #1967D2;\n",
              "      height: 32px;\n",
              "      padding: 0 0 0 0;\n",
              "      width: 32px;\n",
              "    }\n",
              "\n",
              "    .colab-df-convert:hover {\n",
              "      background-color: #E2EBFA;\n",
              "      box-shadow: 0px 1px 2px rgba(60, 64, 67, 0.3), 0px 1px 3px 1px rgba(60, 64, 67, 0.15);\n",
              "      fill: #174EA6;\n",
              "    }\n",
              "\n",
              "    .colab-df-buttons div {\n",
              "      margin-bottom: 4px;\n",
              "    }\n",
              "\n",
              "    [theme=dark] .colab-df-convert {\n",
              "      background-color: #3B4455;\n",
              "      fill: #D2E3FC;\n",
              "    }\n",
              "\n",
              "    [theme=dark] .colab-df-convert:hover {\n",
              "      background-color: #434B5C;\n",
              "      box-shadow: 0px 1px 3px 1px rgba(0, 0, 0, 0.15);\n",
              "      filter: drop-shadow(0px 1px 2px rgba(0, 0, 0, 0.3));\n",
              "      fill: #FFFFFF;\n",
              "    }\n",
              "  </style>\n",
              "\n",
              "    <script>\n",
              "      const buttonEl =\n",
              "        document.querySelector('#df-baf4e435-ab12-45c5-a702-dc16dc1b988a button.colab-df-convert');\n",
              "      buttonEl.style.display =\n",
              "        google.colab.kernel.accessAllowed ? 'block' : 'none';\n",
              "\n",
              "      async function convertToInteractive(key) {\n",
              "        const element = document.querySelector('#df-baf4e435-ab12-45c5-a702-dc16dc1b988a');\n",
              "        const dataTable =\n",
              "          await google.colab.kernel.invokeFunction('convertToInteractive',\n",
              "                                                    [key], {});\n",
              "        if (!dataTable) return;\n",
              "\n",
              "        const docLinkHtml = 'Like what you see? Visit the ' +\n",
              "          '<a target=\"_blank\" href=https://colab.research.google.com/notebooks/data_table.ipynb>data table notebook</a>'\n",
              "          + ' to learn more about interactive tables.';\n",
              "        element.innerHTML = '';\n",
              "        dataTable['output_type'] = 'display_data';\n",
              "        await google.colab.output.renderOutput(dataTable, element);\n",
              "        const docLink = document.createElement('div');\n",
              "        docLink.innerHTML = docLinkHtml;\n",
              "        element.appendChild(docLink);\n",
              "      }\n",
              "    </script>\n",
              "  </div>\n",
              "\n",
              "\n",
              "    <div id=\"df-22cc5102-8d31-4da4-986a-e07dc231c1e1\">\n",
              "      <button class=\"colab-df-quickchart\" onclick=\"quickchart('df-22cc5102-8d31-4da4-986a-e07dc231c1e1')\"\n",
              "                title=\"Suggest charts\"\n",
              "                style=\"display:none;\">\n",
              "\n",
              "<svg xmlns=\"http://www.w3.org/2000/svg\" height=\"24px\"viewBox=\"0 0 24 24\"\n",
              "     width=\"24px\">\n",
              "    <g>\n",
              "        <path d=\"M19 3H5c-1.1 0-2 .9-2 2v14c0 1.1.9 2 2 2h14c1.1 0 2-.9 2-2V5c0-1.1-.9-2-2-2zM9 17H7v-7h2v7zm4 0h-2V7h2v10zm4 0h-2v-4h2v4z\"/>\n",
              "    </g>\n",
              "</svg>\n",
              "      </button>\n",
              "\n",
              "<style>\n",
              "  .colab-df-quickchart {\n",
              "      --bg-color: #E8F0FE;\n",
              "      --fill-color: #1967D2;\n",
              "      --hover-bg-color: #E2EBFA;\n",
              "      --hover-fill-color: #174EA6;\n",
              "      --disabled-fill-color: #AAA;\n",
              "      --disabled-bg-color: #DDD;\n",
              "  }\n",
              "\n",
              "  [theme=dark] .colab-df-quickchart {\n",
              "      --bg-color: #3B4455;\n",
              "      --fill-color: #D2E3FC;\n",
              "      --hover-bg-color: #434B5C;\n",
              "      --hover-fill-color: #FFFFFF;\n",
              "      --disabled-bg-color: #3B4455;\n",
              "      --disabled-fill-color: #666;\n",
              "  }\n",
              "\n",
              "  .colab-df-quickchart {\n",
              "    background-color: var(--bg-color);\n",
              "    border: none;\n",
              "    border-radius: 50%;\n",
              "    cursor: pointer;\n",
              "    display: none;\n",
              "    fill: var(--fill-color);\n",
              "    height: 32px;\n",
              "    padding: 0;\n",
              "    width: 32px;\n",
              "  }\n",
              "\n",
              "  .colab-df-quickchart:hover {\n",
              "    background-color: var(--hover-bg-color);\n",
              "    box-shadow: 0 1px 2px rgba(60, 64, 67, 0.3), 0 1px 3px 1px rgba(60, 64, 67, 0.15);\n",
              "    fill: var(--button-hover-fill-color);\n",
              "  }\n",
              "\n",
              "  .colab-df-quickchart-complete:disabled,\n",
              "  .colab-df-quickchart-complete:disabled:hover {\n",
              "    background-color: var(--disabled-bg-color);\n",
              "    fill: var(--disabled-fill-color);\n",
              "    box-shadow: none;\n",
              "  }\n",
              "\n",
              "  .colab-df-spinner {\n",
              "    border: 2px solid var(--fill-color);\n",
              "    border-color: transparent;\n",
              "    border-bottom-color: var(--fill-color);\n",
              "    animation:\n",
              "      spin 1s steps(1) infinite;\n",
              "  }\n",
              "\n",
              "  @keyframes spin {\n",
              "    0% {\n",
              "      border-color: transparent;\n",
              "      border-bottom-color: var(--fill-color);\n",
              "      border-left-color: var(--fill-color);\n",
              "    }\n",
              "    20% {\n",
              "      border-color: transparent;\n",
              "      border-left-color: var(--fill-color);\n",
              "      border-top-color: var(--fill-color);\n",
              "    }\n",
              "    30% {\n",
              "      border-color: transparent;\n",
              "      border-left-color: var(--fill-color);\n",
              "      border-top-color: var(--fill-color);\n",
              "      border-right-color: var(--fill-color);\n",
              "    }\n",
              "    40% {\n",
              "      border-color: transparent;\n",
              "      border-right-color: var(--fill-color);\n",
              "      border-top-color: var(--fill-color);\n",
              "    }\n",
              "    60% {\n",
              "      border-color: transparent;\n",
              "      border-right-color: var(--fill-color);\n",
              "    }\n",
              "    80% {\n",
              "      border-color: transparent;\n",
              "      border-right-color: var(--fill-color);\n",
              "      border-bottom-color: var(--fill-color);\n",
              "    }\n",
              "    90% {\n",
              "      border-color: transparent;\n",
              "      border-bottom-color: var(--fill-color);\n",
              "    }\n",
              "  }\n",
              "</style>\n",
              "\n",
              "      <script>\n",
              "        async function quickchart(key) {\n",
              "          const quickchartButtonEl =\n",
              "            document.querySelector('#' + key + ' button');\n",
              "          quickchartButtonEl.disabled = true;  // To prevent multiple clicks.\n",
              "          quickchartButtonEl.classList.add('colab-df-spinner');\n",
              "          try {\n",
              "            const charts = await google.colab.kernel.invokeFunction(\n",
              "                'suggestCharts', [key], {});\n",
              "          } catch (error) {\n",
              "            console.error('Error during call to suggestCharts:', error);\n",
              "          }\n",
              "          quickchartButtonEl.classList.remove('colab-df-spinner');\n",
              "          quickchartButtonEl.classList.add('colab-df-quickchart-complete');\n",
              "        }\n",
              "        (() => {\n",
              "          let quickchartButtonEl =\n",
              "            document.querySelector('#df-22cc5102-8d31-4da4-986a-e07dc231c1e1 button');\n",
              "          quickchartButtonEl.style.display =\n",
              "            google.colab.kernel.accessAllowed ? 'block' : 'none';\n",
              "        })();\n",
              "      </script>\n",
              "    </div>\n",
              "    </div>\n",
              "  </div>\n"
            ],
            "application/vnd.google.colaboratory.intrinsic+json": {
              "type": "dataframe",
              "variable_name": "df",
              "summary": "{\n  \"name\": \"df\",\n  \"rows\": 4,\n  \"fields\": [\n    {\n      \"column\": \"patient_id\",\n      \"properties\": {\n        \"dtype\": \"string\",\n        \"num_unique_values\": 4,\n        \"samples\": [\n          \"P002\",\n          \"P004\",\n          \"P001\"\n        ],\n        \"semantic_type\": \"\",\n        \"description\": \"\"\n      }\n    },\n    {\n      \"column\": \"age\",\n      \"properties\": {\n        \"dtype\": \"number\",\n        \"std\": 10,\n        \"min\": 38,\n        \"max\": 62,\n        \"num_unique_values\": 4,\n        \"samples\": [\n          62,\n          55,\n          45\n        ],\n        \"semantic_type\": \"\",\n        \"description\": \"\"\n      }\n    },\n    {\n      \"column\": \"disease\",\n      \"properties\": {\n        \"dtype\": \"string\",\n        \"num_unique_values\": 2,\n        \"samples\": [\n          \"No\",\n          \"Yes\"\n        ],\n        \"semantic_type\": \"\",\n        \"description\": \"\"\n      }\n    },\n    {\n      \"column\": \"expression_gene_x\",\n      \"properties\": {\n        \"dtype\": \"number\",\n        \"std\": 6.336337007030692,\n        \"min\": 2.3,\n        \"max\": 15.6,\n        \"num_unique_values\": 4,\n        \"samples\": [\n          2.3,\n          3.1\n        ],\n        \"semantic_type\": \"\",\n        \"description\": \"\"\n      }\n    }\n  ]\n}"
            }
          },
          "metadata": {}
        }
      ]
    },
    {
      "cell_type": "code",
      "source": [
        "# 2. Используем основные методы для осмотра\n",
        "print(\"\\nИнформация о таблице:\")\n",
        "df.info()\n",
        "\n",
        "print(\"\\nСтатистика по числовым колонкам:\")\n",
        "print(df.describe())\n"
      ],
      "metadata": {
        "colab": {
          "base_uri": "https://localhost:8080/"
        },
        "id": "REEq0GQ5HahD",
        "outputId": "aceaee1f-794d-4966-c2de-132880bd8751"
      },
      "execution_count": null,
      "outputs": [
        {
          "output_type": "stream",
          "name": "stdout",
          "text": [
            "\n",
            "Информация о таблице:\n",
            "<class 'pandas.core.frame.DataFrame'>\n",
            "RangeIndex: 4 entries, 0 to 3\n",
            "Data columns (total 4 columns):\n",
            " #   Column             Non-Null Count  Dtype  \n",
            "---  ------             --------------  -----  \n",
            " 0   patient_id         4 non-null      object \n",
            " 1   age                4 non-null      int64  \n",
            " 2   disease            4 non-null      object \n",
            " 3   expression_gene_x  4 non-null      float64\n",
            "dtypes: float64(1), int64(1), object(2)\n",
            "memory usage: 260.0+ bytes\n",
            "\n",
            "Статистика по числовым колонкам:\n",
            "             age  expression_gene_x\n",
            "count   4.000000           4.000000\n",
            "mean   50.000000           7.875000\n",
            "std    10.614456           6.336337\n",
            "min    38.000000           2.300000\n",
            "25%    43.250000           2.900000\n",
            "50%    50.000000           6.800000\n",
            "75%    56.750000          11.775000\n",
            "max    62.000000          15.600000\n"
          ]
        }
      ]
    },
    {
      "cell_type": "code",
      "source": [
        "# 3. Выборка данных\n",
        "print(\"\\nВыберем колонку 'age':\")\n",
        "print(df['age'])\n",
        "\n",
        "print(\"\\nВыберем строки с болезнью ('disease' == 'Yes'):\")\n",
        "patients_with_disease = df[df['disease'] == 'Yes']\n",
        "display(patients_with_disease)"
      ],
      "metadata": {
        "colab": {
          "base_uri": "https://localhost:8080/",
          "height": 268
        },
        "id": "I6bCNJEoHbsc",
        "outputId": "14d3fd1e-600d-42d6-e734-9f7ac9fea8d3"
      },
      "execution_count": null,
      "outputs": [
        {
          "output_type": "stream",
          "name": "stdout",
          "text": [
            "\n",
            "Выберем колонку 'age':\n",
            "0    45\n",
            "1    62\n",
            "2    38\n",
            "3    55\n",
            "Name: age, dtype: int64\n",
            "\n",
            "Выберем строки с болезнью ('disease' == 'Yes'):\n"
          ]
        },
        {
          "output_type": "display_data",
          "data": {
            "text/plain": [
              "  patient_id  age disease  expression_gene_x\n",
              "0       P001   45     Yes               10.5\n",
              "2       P003   38     Yes               15.6"
            ],
            "text/html": [
              "\n",
              "  <div id=\"df-5b096d3b-d06d-4a45-bb91-ec569f298be7\" class=\"colab-df-container\">\n",
              "    <div>\n",
              "<style scoped>\n",
              "    .dataframe tbody tr th:only-of-type {\n",
              "        vertical-align: middle;\n",
              "    }\n",
              "\n",
              "    .dataframe tbody tr th {\n",
              "        vertical-align: top;\n",
              "    }\n",
              "\n",
              "    .dataframe thead th {\n",
              "        text-align: right;\n",
              "    }\n",
              "</style>\n",
              "<table border=\"1\" class=\"dataframe\">\n",
              "  <thead>\n",
              "    <tr style=\"text-align: right;\">\n",
              "      <th></th>\n",
              "      <th>patient_id</th>\n",
              "      <th>age</th>\n",
              "      <th>disease</th>\n",
              "      <th>expression_gene_x</th>\n",
              "    </tr>\n",
              "  </thead>\n",
              "  <tbody>\n",
              "    <tr>\n",
              "      <th>0</th>\n",
              "      <td>P001</td>\n",
              "      <td>45</td>\n",
              "      <td>Yes</td>\n",
              "      <td>10.5</td>\n",
              "    </tr>\n",
              "    <tr>\n",
              "      <th>2</th>\n",
              "      <td>P003</td>\n",
              "      <td>38</td>\n",
              "      <td>Yes</td>\n",
              "      <td>15.6</td>\n",
              "    </tr>\n",
              "  </tbody>\n",
              "</table>\n",
              "</div>\n",
              "    <div class=\"colab-df-buttons\">\n",
              "\n",
              "  <div class=\"colab-df-container\">\n",
              "    <button class=\"colab-df-convert\" onclick=\"convertToInteractive('df-5b096d3b-d06d-4a45-bb91-ec569f298be7')\"\n",
              "            title=\"Convert this dataframe to an interactive table.\"\n",
              "            style=\"display:none;\">\n",
              "\n",
              "  <svg xmlns=\"http://www.w3.org/2000/svg\" height=\"24px\" viewBox=\"0 -960 960 960\">\n",
              "    <path d=\"M120-120v-720h720v720H120Zm60-500h600v-160H180v160Zm220 220h160v-160H400v160Zm0 220h160v-160H400v160ZM180-400h160v-160H180v160Zm440 0h160v-160H620v160ZM180-180h160v-160H180v160Zm440 0h160v-160H620v160Z\"/>\n",
              "  </svg>\n",
              "    </button>\n",
              "\n",
              "  <style>\n",
              "    .colab-df-container {\n",
              "      display:flex;\n",
              "      gap: 12px;\n",
              "    }\n",
              "\n",
              "    .colab-df-convert {\n",
              "      background-color: #E8F0FE;\n",
              "      border: none;\n",
              "      border-radius: 50%;\n",
              "      cursor: pointer;\n",
              "      display: none;\n",
              "      fill: #1967D2;\n",
              "      height: 32px;\n",
              "      padding: 0 0 0 0;\n",
              "      width: 32px;\n",
              "    }\n",
              "\n",
              "    .colab-df-convert:hover {\n",
              "      background-color: #E2EBFA;\n",
              "      box-shadow: 0px 1px 2px rgba(60, 64, 67, 0.3), 0px 1px 3px 1px rgba(60, 64, 67, 0.15);\n",
              "      fill: #174EA6;\n",
              "    }\n",
              "\n",
              "    .colab-df-buttons div {\n",
              "      margin-bottom: 4px;\n",
              "    }\n",
              "\n",
              "    [theme=dark] .colab-df-convert {\n",
              "      background-color: #3B4455;\n",
              "      fill: #D2E3FC;\n",
              "    }\n",
              "\n",
              "    [theme=dark] .colab-df-convert:hover {\n",
              "      background-color: #434B5C;\n",
              "      box-shadow: 0px 1px 3px 1px rgba(0, 0, 0, 0.15);\n",
              "      filter: drop-shadow(0px 1px 2px rgba(0, 0, 0, 0.3));\n",
              "      fill: #FFFFFF;\n",
              "    }\n",
              "  </style>\n",
              "\n",
              "    <script>\n",
              "      const buttonEl =\n",
              "        document.querySelector('#df-5b096d3b-d06d-4a45-bb91-ec569f298be7 button.colab-df-convert');\n",
              "      buttonEl.style.display =\n",
              "        google.colab.kernel.accessAllowed ? 'block' : 'none';\n",
              "\n",
              "      async function convertToInteractive(key) {\n",
              "        const element = document.querySelector('#df-5b096d3b-d06d-4a45-bb91-ec569f298be7');\n",
              "        const dataTable =\n",
              "          await google.colab.kernel.invokeFunction('convertToInteractive',\n",
              "                                                    [key], {});\n",
              "        if (!dataTable) return;\n",
              "\n",
              "        const docLinkHtml = 'Like what you see? Visit the ' +\n",
              "          '<a target=\"_blank\" href=https://colab.research.google.com/notebooks/data_table.ipynb>data table notebook</a>'\n",
              "          + ' to learn more about interactive tables.';\n",
              "        element.innerHTML = '';\n",
              "        dataTable['output_type'] = 'display_data';\n",
              "        await google.colab.output.renderOutput(dataTable, element);\n",
              "        const docLink = document.createElement('div');\n",
              "        docLink.innerHTML = docLinkHtml;\n",
              "        element.appendChild(docLink);\n",
              "      }\n",
              "    </script>\n",
              "  </div>\n",
              "\n",
              "\n",
              "    <div id=\"df-9c9b4458-c046-48b2-afd2-3054b24c9ee2\">\n",
              "      <button class=\"colab-df-quickchart\" onclick=\"quickchart('df-9c9b4458-c046-48b2-afd2-3054b24c9ee2')\"\n",
              "                title=\"Suggest charts\"\n",
              "                style=\"display:none;\">\n",
              "\n",
              "<svg xmlns=\"http://www.w3.org/2000/svg\" height=\"24px\"viewBox=\"0 0 24 24\"\n",
              "     width=\"24px\">\n",
              "    <g>\n",
              "        <path d=\"M19 3H5c-1.1 0-2 .9-2 2v14c0 1.1.9 2 2 2h14c1.1 0 2-.9 2-2V5c0-1.1-.9-2-2-2zM9 17H7v-7h2v7zm4 0h-2V7h2v10zm4 0h-2v-4h2v4z\"/>\n",
              "    </g>\n",
              "</svg>\n",
              "      </button>\n",
              "\n",
              "<style>\n",
              "  .colab-df-quickchart {\n",
              "      --bg-color: #E8F0FE;\n",
              "      --fill-color: #1967D2;\n",
              "      --hover-bg-color: #E2EBFA;\n",
              "      --hover-fill-color: #174EA6;\n",
              "      --disabled-fill-color: #AAA;\n",
              "      --disabled-bg-color: #DDD;\n",
              "  }\n",
              "\n",
              "  [theme=dark] .colab-df-quickchart {\n",
              "      --bg-color: #3B4455;\n",
              "      --fill-color: #D2E3FC;\n",
              "      --hover-bg-color: #434B5C;\n",
              "      --hover-fill-color: #FFFFFF;\n",
              "      --disabled-bg-color: #3B4455;\n",
              "      --disabled-fill-color: #666;\n",
              "  }\n",
              "\n",
              "  .colab-df-quickchart {\n",
              "    background-color: var(--bg-color);\n",
              "    border: none;\n",
              "    border-radius: 50%;\n",
              "    cursor: pointer;\n",
              "    display: none;\n",
              "    fill: var(--fill-color);\n",
              "    height: 32px;\n",
              "    padding: 0;\n",
              "    width: 32px;\n",
              "  }\n",
              "\n",
              "  .colab-df-quickchart:hover {\n",
              "    background-color: var(--hover-bg-color);\n",
              "    box-shadow: 0 1px 2px rgba(60, 64, 67, 0.3), 0 1px 3px 1px rgba(60, 64, 67, 0.15);\n",
              "    fill: var(--button-hover-fill-color);\n",
              "  }\n",
              "\n",
              "  .colab-df-quickchart-complete:disabled,\n",
              "  .colab-df-quickchart-complete:disabled:hover {\n",
              "    background-color: var(--disabled-bg-color);\n",
              "    fill: var(--disabled-fill-color);\n",
              "    box-shadow: none;\n",
              "  }\n",
              "\n",
              "  .colab-df-spinner {\n",
              "    border: 2px solid var(--fill-color);\n",
              "    border-color: transparent;\n",
              "    border-bottom-color: var(--fill-color);\n",
              "    animation:\n",
              "      spin 1s steps(1) infinite;\n",
              "  }\n",
              "\n",
              "  @keyframes spin {\n",
              "    0% {\n",
              "      border-color: transparent;\n",
              "      border-bottom-color: var(--fill-color);\n",
              "      border-left-color: var(--fill-color);\n",
              "    }\n",
              "    20% {\n",
              "      border-color: transparent;\n",
              "      border-left-color: var(--fill-color);\n",
              "      border-top-color: var(--fill-color);\n",
              "    }\n",
              "    30% {\n",
              "      border-color: transparent;\n",
              "      border-left-color: var(--fill-color);\n",
              "      border-top-color: var(--fill-color);\n",
              "      border-right-color: var(--fill-color);\n",
              "    }\n",
              "    40% {\n",
              "      border-color: transparent;\n",
              "      border-right-color: var(--fill-color);\n",
              "      border-top-color: var(--fill-color);\n",
              "    }\n",
              "    60% {\n",
              "      border-color: transparent;\n",
              "      border-right-color: var(--fill-color);\n",
              "    }\n",
              "    80% {\n",
              "      border-color: transparent;\n",
              "      border-right-color: var(--fill-color);\n",
              "      border-bottom-color: var(--fill-color);\n",
              "    }\n",
              "    90% {\n",
              "      border-color: transparent;\n",
              "      border-bottom-color: var(--fill-color);\n",
              "    }\n",
              "  }\n",
              "</style>\n",
              "\n",
              "      <script>\n",
              "        async function quickchart(key) {\n",
              "          const quickchartButtonEl =\n",
              "            document.querySelector('#' + key + ' button');\n",
              "          quickchartButtonEl.disabled = true;  // To prevent multiple clicks.\n",
              "          quickchartButtonEl.classList.add('colab-df-spinner');\n",
              "          try {\n",
              "            const charts = await google.colab.kernel.invokeFunction(\n",
              "                'suggestCharts', [key], {});\n",
              "          } catch (error) {\n",
              "            console.error('Error during call to suggestCharts:', error);\n",
              "          }\n",
              "          quickchartButtonEl.classList.remove('colab-df-spinner');\n",
              "          quickchartButtonEl.classList.add('colab-df-quickchart-complete');\n",
              "        }\n",
              "        (() => {\n",
              "          let quickchartButtonEl =\n",
              "            document.querySelector('#df-9c9b4458-c046-48b2-afd2-3054b24c9ee2 button');\n",
              "          quickchartButtonEl.style.display =\n",
              "            google.colab.kernel.accessAllowed ? 'block' : 'none';\n",
              "        })();\n",
              "      </script>\n",
              "    </div>\n",
              "    </div>\n",
              "  </div>\n"
            ],
            "application/vnd.google.colaboratory.intrinsic+json": {
              "type": "dataframe",
              "variable_name": "patients_with_disease",
              "summary": "{\n  \"name\": \"patients_with_disease\",\n  \"rows\": 2,\n  \"fields\": [\n    {\n      \"column\": \"patient_id\",\n      \"properties\": {\n        \"dtype\": \"string\",\n        \"num_unique_values\": 2,\n        \"samples\": [\n          \"P003\",\n          \"P001\"\n        ],\n        \"semantic_type\": \"\",\n        \"description\": \"\"\n      }\n    },\n    {\n      \"column\": \"age\",\n      \"properties\": {\n        \"dtype\": \"number\",\n        \"std\": 4,\n        \"min\": 38,\n        \"max\": 45,\n        \"num_unique_values\": 2,\n        \"samples\": [\n          38,\n          45\n        ],\n        \"semantic_type\": \"\",\n        \"description\": \"\"\n      }\n    },\n    {\n      \"column\": \"disease\",\n      \"properties\": {\n        \"dtype\": \"string\",\n        \"num_unique_values\": 1,\n        \"samples\": [\n          \"Yes\"\n        ],\n        \"semantic_type\": \"\",\n        \"description\": \"\"\n      }\n    },\n    {\n      \"column\": \"expression_gene_x\",\n      \"properties\": {\n        \"dtype\": \"number\",\n        \"std\": 3.6062445840513924,\n        \"min\": 10.5,\n        \"max\": 15.6,\n        \"num_unique_values\": 2,\n        \"samples\": [\n          15.6\n        ],\n        \"semantic_type\": \"\",\n        \"description\": \"\"\n      }\n    }\n  ]\n}"
            }
          },
          "metadata": {}
        }
      ]
    },
    {
      "cell_type": "code",
      "source": [
        "# 4. Группировка\n",
        "# Посчитаем средний возраст и среднюю экспрессию гена для больных и здоровых\n",
        "print(\"\\nСводная статистика по группам (болеет/не болеет):\")\n",
        "grouped_stats = df.groupby('disease').agg({'age': 'mean', 'expression_gene_x': 'mean'})\n",
        "display(grouped_stats)"
      ],
      "metadata": {
        "colab": {
          "base_uri": "https://localhost:8080/",
          "height": 178
        },
        "id": "BYrtd-3o8tBT",
        "outputId": "77a65963-04eb-41b0-f9c6-ce1db8c6576b"
      },
      "execution_count": null,
      "outputs": [
        {
          "output_type": "stream",
          "name": "stdout",
          "text": [
            "\n",
            "Сводная статистика по группам (болеет/не болеет):\n"
          ]
        },
        {
          "output_type": "display_data",
          "data": {
            "text/plain": [
              "          age  expression_gene_x\n",
              "disease                         \n",
              "No       58.5               2.70\n",
              "Yes      41.5              13.05"
            ],
            "text/html": [
              "\n",
              "  <div id=\"df-142f3f85-6ab0-4b47-9b06-cf8e4143e2f4\" class=\"colab-df-container\">\n",
              "    <div>\n",
              "<style scoped>\n",
              "    .dataframe tbody tr th:only-of-type {\n",
              "        vertical-align: middle;\n",
              "    }\n",
              "\n",
              "    .dataframe tbody tr th {\n",
              "        vertical-align: top;\n",
              "    }\n",
              "\n",
              "    .dataframe thead th {\n",
              "        text-align: right;\n",
              "    }\n",
              "</style>\n",
              "<table border=\"1\" class=\"dataframe\">\n",
              "  <thead>\n",
              "    <tr style=\"text-align: right;\">\n",
              "      <th></th>\n",
              "      <th>age</th>\n",
              "      <th>expression_gene_x</th>\n",
              "    </tr>\n",
              "    <tr>\n",
              "      <th>disease</th>\n",
              "      <th></th>\n",
              "      <th></th>\n",
              "    </tr>\n",
              "  </thead>\n",
              "  <tbody>\n",
              "    <tr>\n",
              "      <th>No</th>\n",
              "      <td>58.5</td>\n",
              "      <td>2.70</td>\n",
              "    </tr>\n",
              "    <tr>\n",
              "      <th>Yes</th>\n",
              "      <td>41.5</td>\n",
              "      <td>13.05</td>\n",
              "    </tr>\n",
              "  </tbody>\n",
              "</table>\n",
              "</div>\n",
              "    <div class=\"colab-df-buttons\">\n",
              "\n",
              "  <div class=\"colab-df-container\">\n",
              "    <button class=\"colab-df-convert\" onclick=\"convertToInteractive('df-142f3f85-6ab0-4b47-9b06-cf8e4143e2f4')\"\n",
              "            title=\"Convert this dataframe to an interactive table.\"\n",
              "            style=\"display:none;\">\n",
              "\n",
              "  <svg xmlns=\"http://www.w3.org/2000/svg\" height=\"24px\" viewBox=\"0 -960 960 960\">\n",
              "    <path d=\"M120-120v-720h720v720H120Zm60-500h600v-160H180v160Zm220 220h160v-160H400v160Zm0 220h160v-160H400v160ZM180-400h160v-160H180v160Zm440 0h160v-160H620v160ZM180-180h160v-160H180v160Zm440 0h160v-160H620v160Z\"/>\n",
              "  </svg>\n",
              "    </button>\n",
              "\n",
              "  <style>\n",
              "    .colab-df-container {\n",
              "      display:flex;\n",
              "      gap: 12px;\n",
              "    }\n",
              "\n",
              "    .colab-df-convert {\n",
              "      background-color: #E8F0FE;\n",
              "      border: none;\n",
              "      border-radius: 50%;\n",
              "      cursor: pointer;\n",
              "      display: none;\n",
              "      fill: #1967D2;\n",
              "      height: 32px;\n",
              "      padding: 0 0 0 0;\n",
              "      width: 32px;\n",
              "    }\n",
              "\n",
              "    .colab-df-convert:hover {\n",
              "      background-color: #E2EBFA;\n",
              "      box-shadow: 0px 1px 2px rgba(60, 64, 67, 0.3), 0px 1px 3px 1px rgba(60, 64, 67, 0.15);\n",
              "      fill: #174EA6;\n",
              "    }\n",
              "\n",
              "    .colab-df-buttons div {\n",
              "      margin-bottom: 4px;\n",
              "    }\n",
              "\n",
              "    [theme=dark] .colab-df-convert {\n",
              "      background-color: #3B4455;\n",
              "      fill: #D2E3FC;\n",
              "    }\n",
              "\n",
              "    [theme=dark] .colab-df-convert:hover {\n",
              "      background-color: #434B5C;\n",
              "      box-shadow: 0px 1px 3px 1px rgba(0, 0, 0, 0.15);\n",
              "      filter: drop-shadow(0px 1px 2px rgba(0, 0, 0, 0.3));\n",
              "      fill: #FFFFFF;\n",
              "    }\n",
              "  </style>\n",
              "\n",
              "    <script>\n",
              "      const buttonEl =\n",
              "        document.querySelector('#df-142f3f85-6ab0-4b47-9b06-cf8e4143e2f4 button.colab-df-convert');\n",
              "      buttonEl.style.display =\n",
              "        google.colab.kernel.accessAllowed ? 'block' : 'none';\n",
              "\n",
              "      async function convertToInteractive(key) {\n",
              "        const element = document.querySelector('#df-142f3f85-6ab0-4b47-9b06-cf8e4143e2f4');\n",
              "        const dataTable =\n",
              "          await google.colab.kernel.invokeFunction('convertToInteractive',\n",
              "                                                    [key], {});\n",
              "        if (!dataTable) return;\n",
              "\n",
              "        const docLinkHtml = 'Like what you see? Visit the ' +\n",
              "          '<a target=\"_blank\" href=https://colab.research.google.com/notebooks/data_table.ipynb>data table notebook</a>'\n",
              "          + ' to learn more about interactive tables.';\n",
              "        element.innerHTML = '';\n",
              "        dataTable['output_type'] = 'display_data';\n",
              "        await google.colab.output.renderOutput(dataTable, element);\n",
              "        const docLink = document.createElement('div');\n",
              "        docLink.innerHTML = docLinkHtml;\n",
              "        element.appendChild(docLink);\n",
              "      }\n",
              "    </script>\n",
              "  </div>\n",
              "\n",
              "\n",
              "    <div id=\"df-f4edadea-bb9a-41c8-819f-a63087ca4906\">\n",
              "      <button class=\"colab-df-quickchart\" onclick=\"quickchart('df-f4edadea-bb9a-41c8-819f-a63087ca4906')\"\n",
              "                title=\"Suggest charts\"\n",
              "                style=\"display:none;\">\n",
              "\n",
              "<svg xmlns=\"http://www.w3.org/2000/svg\" height=\"24px\"viewBox=\"0 0 24 24\"\n",
              "     width=\"24px\">\n",
              "    <g>\n",
              "        <path d=\"M19 3H5c-1.1 0-2 .9-2 2v14c0 1.1.9 2 2 2h14c1.1 0 2-.9 2-2V5c0-1.1-.9-2-2-2zM9 17H7v-7h2v7zm4 0h-2V7h2v10zm4 0h-2v-4h2v4z\"/>\n",
              "    </g>\n",
              "</svg>\n",
              "      </button>\n",
              "\n",
              "<style>\n",
              "  .colab-df-quickchart {\n",
              "      --bg-color: #E8F0FE;\n",
              "      --fill-color: #1967D2;\n",
              "      --hover-bg-color: #E2EBFA;\n",
              "      --hover-fill-color: #174EA6;\n",
              "      --disabled-fill-color: #AAA;\n",
              "      --disabled-bg-color: #DDD;\n",
              "  }\n",
              "\n",
              "  [theme=dark] .colab-df-quickchart {\n",
              "      --bg-color: #3B4455;\n",
              "      --fill-color: #D2E3FC;\n",
              "      --hover-bg-color: #434B5C;\n",
              "      --hover-fill-color: #FFFFFF;\n",
              "      --disabled-bg-color: #3B4455;\n",
              "      --disabled-fill-color: #666;\n",
              "  }\n",
              "\n",
              "  .colab-df-quickchart {\n",
              "    background-color: var(--bg-color);\n",
              "    border: none;\n",
              "    border-radius: 50%;\n",
              "    cursor: pointer;\n",
              "    display: none;\n",
              "    fill: var(--fill-color);\n",
              "    height: 32px;\n",
              "    padding: 0;\n",
              "    width: 32px;\n",
              "  }\n",
              "\n",
              "  .colab-df-quickchart:hover {\n",
              "    background-color: var(--hover-bg-color);\n",
              "    box-shadow: 0 1px 2px rgba(60, 64, 67, 0.3), 0 1px 3px 1px rgba(60, 64, 67, 0.15);\n",
              "    fill: var(--button-hover-fill-color);\n",
              "  }\n",
              "\n",
              "  .colab-df-quickchart-complete:disabled,\n",
              "  .colab-df-quickchart-complete:disabled:hover {\n",
              "    background-color: var(--disabled-bg-color);\n",
              "    fill: var(--disabled-fill-color);\n",
              "    box-shadow: none;\n",
              "  }\n",
              "\n",
              "  .colab-df-spinner {\n",
              "    border: 2px solid var(--fill-color);\n",
              "    border-color: transparent;\n",
              "    border-bottom-color: var(--fill-color);\n",
              "    animation:\n",
              "      spin 1s steps(1) infinite;\n",
              "  }\n",
              "\n",
              "  @keyframes spin {\n",
              "    0% {\n",
              "      border-color: transparent;\n",
              "      border-bottom-color: var(--fill-color);\n",
              "      border-left-color: var(--fill-color);\n",
              "    }\n",
              "    20% {\n",
              "      border-color: transparent;\n",
              "      border-left-color: var(--fill-color);\n",
              "      border-top-color: var(--fill-color);\n",
              "    }\n",
              "    30% {\n",
              "      border-color: transparent;\n",
              "      border-left-color: var(--fill-color);\n",
              "      border-top-color: var(--fill-color);\n",
              "      border-right-color: var(--fill-color);\n",
              "    }\n",
              "    40% {\n",
              "      border-color: transparent;\n",
              "      border-right-color: var(--fill-color);\n",
              "      border-top-color: var(--fill-color);\n",
              "    }\n",
              "    60% {\n",
              "      border-color: transparent;\n",
              "      border-right-color: var(--fill-color);\n",
              "    }\n",
              "    80% {\n",
              "      border-color: transparent;\n",
              "      border-right-color: var(--fill-color);\n",
              "      border-bottom-color: var(--fill-color);\n",
              "    }\n",
              "    90% {\n",
              "      border-color: transparent;\n",
              "      border-bottom-color: var(--fill-color);\n",
              "    }\n",
              "  }\n",
              "</style>\n",
              "\n",
              "      <script>\n",
              "        async function quickchart(key) {\n",
              "          const quickchartButtonEl =\n",
              "            document.querySelector('#' + key + ' button');\n",
              "          quickchartButtonEl.disabled = true;  // To prevent multiple clicks.\n",
              "          quickchartButtonEl.classList.add('colab-df-spinner');\n",
              "          try {\n",
              "            const charts = await google.colab.kernel.invokeFunction(\n",
              "                'suggestCharts', [key], {});\n",
              "          } catch (error) {\n",
              "            console.error('Error during call to suggestCharts:', error);\n",
              "          }\n",
              "          quickchartButtonEl.classList.remove('colab-df-spinner');\n",
              "          quickchartButtonEl.classList.add('colab-df-quickchart-complete');\n",
              "        }\n",
              "        (() => {\n",
              "          let quickchartButtonEl =\n",
              "            document.querySelector('#df-f4edadea-bb9a-41c8-819f-a63087ca4906 button');\n",
              "          quickchartButtonEl.style.display =\n",
              "            google.colab.kernel.accessAllowed ? 'block' : 'none';\n",
              "        })();\n",
              "      </script>\n",
              "    </div>\n",
              "    </div>\n",
              "  </div>\n"
            ],
            "application/vnd.google.colaboratory.intrinsic+json": {
              "type": "dataframe",
              "variable_name": "grouped_stats",
              "summary": "{\n  \"name\": \"grouped_stats\",\n  \"rows\": 2,\n  \"fields\": [\n    {\n      \"column\": \"disease\",\n      \"properties\": {\n        \"dtype\": \"string\",\n        \"num_unique_values\": 2,\n        \"samples\": [\n          \"Yes\",\n          \"No\"\n        ],\n        \"semantic_type\": \"\",\n        \"description\": \"\"\n      }\n    },\n    {\n      \"column\": \"age\",\n      \"properties\": {\n        \"dtype\": \"number\",\n        \"std\": 12.020815280171307,\n        \"min\": 41.5,\n        \"max\": 58.5,\n        \"num_unique_values\": 2,\n        \"samples\": [\n          41.5,\n          58.5\n        ],\n        \"semantic_type\": \"\",\n        \"description\": \"\"\n      }\n    },\n    {\n      \"column\": \"expression_gene_x\",\n      \"properties\": {\n        \"dtype\": \"number\",\n        \"std\": 7.318555185280767,\n        \"min\": 2.7,\n        \"max\": 13.05,\n        \"num_unique_values\": 2,\n        \"samples\": [\n          13.05,\n          2.7\n        ],\n        \"semantic_type\": \"\",\n        \"description\": \"\"\n      }\n    }\n  ]\n}"
            }
          },
          "metadata": {}
        }
      ]
    },
    {
      "cell_type": "markdown",
      "source": [
        "## Matplotlib\n",
        "\n",
        "Matplotlib — это низкоуровневая библиотека для построения графиков. Понимание ее объектной модели (Figure, Axes) необходимо для создания сложных и кастомизированных визуализаций."
      ],
      "metadata": {
        "id": "xNRyFCOm83cB"
      }
    },
    {
      "cell_type": "code",
      "source": [
        "import matplotlib.pyplot as plt\n",
        "import numpy as np\n",
        "\n",
        "# Создадим фигуру и оси\n",
        "fig, axs = plt.subplots(1, 2, figsize=(12, 4)) # 1 строка, 2 графика рядом"
      ],
      "metadata": {
        "colab": {
          "base_uri": "https://localhost:8080/",
          "height": 374
        },
        "id": "_Li87tLRHsz3",
        "outputId": "b035896b-89ca-4606-9f4c-cafa613a9d56"
      },
      "execution_count": null,
      "outputs": [
        {
          "output_type": "display_data",
          "data": {
            "text/plain": [
              "<Figure size 1200x400 with 2 Axes>"
            ],
            "image/png": "[encoded data removed]"
          },
          "metadata": {}
        }
      ]
    },
    {
      "cell_type": "code",
      "source": [
        "fig, axs = plt.subplots(1, 2, figsize=(12, 4)) # 1 строка, 2 графика рядом\n",
        "\n",
        "# Данные для построения: симуляция экспрессии двух генов в 20 образцах\n",
        "samples = np.arange(1, 21)\n",
        "gene_a = np.random.randn(20).cumsum() + 10 # Случайное блуждание + базовый уровень\n",
        "gene_b = np.random.randn(20).cumsum() + 5\n",
        "\n",
        "# Первый график: Линейный\n",
        "axs[0].plot(samples, gene_a, label='Gene A', marker='o')\n",
        "axs[0].plot(samples, gene_b, label='Gene B', marker='s')\n",
        "axs[0].set_xlabel('Sample ID')\n",
        "axs[0].set_ylabel('Expression Level')\n",
        "axs[0].set_title('Expression Dynamics across Samples')\n",
        "axs[0].legend()\n",
        "axs[0].grid(True)\n",
        "\n",
        "# Scatter plot (покажем взаимосвязь между генами)\n",
        "axs[1].scatter(gene_a, gene_b, alpha=0.7) # alpha - прозрачность\n",
        "axs[1].set_xlabel('Gene A Expression')\n",
        "axs[1].set_ylabel('Gene B Expression')\n",
        "axs[1].set_title('Correlation between Gene A and Gene B')\n",
        "\n",
        "# Добавим линию тренда для наглядности\n",
        "z = np.polyfit(gene_a, gene_b, 1)\n",
        "p = np.poly1d(z)\n",
        "axs[1].plot(gene_a, p(gene_a), \"r--\", linewidth=1, label='Trendline')\n",
        "axs[1].legend()\n",
        "\n",
        "plt.tight_layout() # Чтобы графики не наезжали друг на друга\n",
        "plt.show()"
      ],
      "metadata": {
        "colab": {
          "base_uri": "https://localhost:8080/",
          "height": 407
        },
        "id": "wfMRJgFmHu2J",
        "outputId": "5bc82112-80f9-4d31-bd8a-e10297bba46b"
      },
      "execution_count": null,
      "outputs": [
        {
          "output_type": "display_data",
          "data": {
            "text/plain": [
              "<Figure size 1200x400 with 2 Axes>"
            ],
            "image/png": "[encoded data removed]"
          },
          "metadata": {}
        }
      ]
    },
    {
      "cell_type": "code",
      "source": [
        "# Быстрое построение через Pandas\n",
        "print(\"\\nГистограмма возрастов пациентов (построенная через Pandas):\")\n",
        "df['age'].hist()"
      ],
      "metadata": {
        "colab": {
          "base_uri": "https://localhost:8080/",
          "height": 482
        },
        "id": "Y_N9Kbxm825o",
        "outputId": "eaff3460-1c44-4b07-cdf5-ea39b53b4c47"
      },
      "execution_count": null,
      "outputs": [
        {
          "output_type": "stream",
          "name": "stdout",
          "text": [
            "\n",
            "Гистограмма возрастов пациентов (построенная через Pandas):\n"
          ]
        },
        {
          "output_type": "execute_result",
          "data": {
            "text/plain": [
              "<Axes: >"
            ]
          },
          "metadata": {},
          "execution_count": 7
        },
        {
          "output_type": "display_data",
          "data": {
            "text/plain": [
              "<Figure size 640x480 with 1 Axes>"
            ],
            "image/png": "[encoded data removed]"
          },
          "metadata": {}
        }
      ]
    },
    {
      "cell_type": "markdown",
      "source": [
        "## Scikit-learn\n",
        "\n",
        "Scikit-learn — основная библиотека, в рамках которой мы будем работать с алгоритмами машинного обучения.\n",
        "\n",
        "Главные концепции:\n",
        "\n",
        "* Единый API: У всех алгоритмов есть методы .fit(X, y), .predict(X), .transform(X), .score(X, y)\n",
        "\n",
        "* Реализованы алгоритмы для всех этапов работы с данными: от препроцессинга и поиска фичей, до непосредственной имплементации алгоритмов\n",
        "\n",
        "* Лучшая библиотека для исследовательских/учебных проектов, но не очень оптимальна для продовых/больших разработок"
      ],
      "metadata": {
        "id": "faIXBc7w8tKU"
      }
    },
    {
      "cell_type": "code",
      "source": [
        "from sklearn.model_selection import train_test_split\n",
        "from sklearn.preprocessing import StandardScaler\n",
        "from sklearn.linear_model import LogisticRegression\n",
        "from sklearn.metrics import accuracy_score\n",
        "\n",
        "# 1. Подготовим данные из нашего DataFrame\n",
        "# X - матрица признаков (возраст и экспрессия гена)\n",
        "X = df[['age', 'expression_gene_x']]\n",
        "# y - целевая переменная (болеет или нет). Превратим Yes/No в 1/0.\n",
        "y = df['disease'].map({'Yes': 1, 'No': 0})\n",
        "\n",
        "# 2. Разделим данные на тренировочные и тестовые\n",
        "# (здесь тестовые данные - 25% от всей выборки, random_state для воспроизводимости)\n",
        "X_train, X_test, y_train, y_test = train_test_split(X, y, test_size=0.25, random_state=42)\n",
        "print(\"Формат данных:\")\n",
        "print(f\"X_train: {X_train.shape}, y_train: {y_train.shape}\")\n",
        "print(f\"X_test:  {X_test.shape}, y_test:  {y_test.shape}\")\n",
        "\n",
        "# 3. Масштабируем признаки (очень важно для многих алгоритмов!)\n",
        "scaler = StandardScaler()\n",
        "X_train_scaled = scaler.fit_transform(X_train) # fit вычисляет mean и std, transform применяет\n",
        "X_test_scaled = scaler.transform(X_test)       # используем mean и std от тренировочных данных!\n",
        "\n",
        "# 4. Создаем и обучаем модель\n",
        "model = LogisticRegression()\n",
        "model.fit(X_train_scaled, y_train)\n",
        "\n",
        "# 5. Делаем предсказание и оцениваем качество\n",
        "y_pred = model.predict(X_test_scaled)\n",
        "accuracy = accuracy_score(y_test, y_pred)\n",
        "print(f\"\\nТочность модели на тестовых данных: {accuracy:.2f}\")\n",
        "\n",
        "# Это искусственный маленький набор данных, и точность может быть любой"
      ],
      "metadata": {
        "colab": {
          "base_uri": "https://localhost:8080/"
        },
        "id": "tNG6u2dA8tSv",
        "outputId": "37d516d8-a28c-44f8-e912-628424df7f75"
      },
      "execution_count": null,
      "outputs": [
        {
          "output_type": "stream",
          "name": "stdout",
          "text": [
            "Формат данных:\n",
            "X_train: (3, 2), y_train: (3,)\n",
            "X_test:  (1, 2), y_test:  (1,)\n",
            "\n",
            "Точность модели на тестовых данных: 1.00\n"
          ]
        }
      ]
    },
    {
      "cell_type": "markdown",
      "metadata": {
        "id": "pSkYbmO2q4_H"
      },
      "source": [
        "## Numpy"
      ]
    },
    {
      "cell_type": "markdown",
      "metadata": {
        "id": "CJwKWuyZq4_I"
      },
      "source": [
        "В задачах анализа данных часто используются многомерные массивы. В частности, выборка обычно имеет вид матрицы размера\n",
        "$N \\times d$, где\n",
        "$N$ — количество объектов, а\n",
        "$d$ — признаков.\n",
        "\n",
        "Но чистый Python довольно неудобный и слишком медленный для подобных задач. Конечно, можно представить матрицу в виде «списка списков», но с первого раза без ошибок такой объект сложно даже создать. Например, так делать не надо:"
      ]
    },
    {
      "cell_type": "code",
      "execution_count": null,
      "metadata": {
        "colab": {
          "base_uri": "https://localhost:8080/"
        },
        "id": "t3vflmfVq4_J",
        "outputId": "198f41a7-f046-4ad3-a6a2-b8dd103c72a6"
      },
      "outputs": [
        {
          "output_type": "execute_result",
          "data": {
            "text/plain": [
              "[[0, 0, 0, 0, 0],\n",
              " [0, 0, 0, 0, 0],\n",
              " [0, 0, 0, 0, 0],\n",
              " [0, 0, 0, 0, 0],\n",
              " [0, 0, 0, 0, 0]]"
            ]
          },
          "metadata": {},
          "execution_count": 65
        }
      ],
      "source": [
        "vector = [0, 0, 0, 0, 0]  # Создаём строчку\n",
        "matrix = 5 * [vector]     # Создаём список из строчек\n",
        "matrix"
      ]
    },
    {
      "cell_type": "code",
      "execution_count": null,
      "metadata": {
        "colab": {
          "base_uri": "https://localhost:8080/"
        },
        "id": "mEEae2VXq4_J",
        "outputId": "f40166c0-749d-4dc0-e543-7d41f9b95c9d"
      },
      "outputs": [
        {
          "output_type": "execute_result",
          "data": {
            "text/plain": [
              "[[1, 0, 0, 0, 0],\n",
              " [1, 0, 0, 0, 0],\n",
              " [1, 0, 0, 0, 0],\n",
              " [1, 0, 0, 0, 0],\n",
              " [1, 0, 0, 0, 0]]"
            ]
          },
          "metadata": {},
          "execution_count": 66
        }
      ],
      "source": [
        "matrix[0][0] = 1  # Хотим изменить один элемент\n",
        "matrix            # А получилось что-то не то..."
      ]
    },
    {
      "cell_type": "markdown",
      "metadata": {
        "id": "vgXMI4ACq4_L"
      },
      "source": [
        "Но даже если мы сможем корректно создать матрицу в виде списка списков, функции для работы с ней придётся писать самостоятельно. Они будут содержать циклы языка Python и, как следствие, медленно работать.\n",
        "\n",
        "Поэтому естественно было придумать библиотеку для работы с многомерными массивами. Такой библиотекой стала библиотека NumPy."
      ]
    },
    {
      "cell_type": "markdown",
      "metadata": {
        "id": "3GdjERaaq4_M"
      },
      "source": [
        "NumPy — библиотека языка Python, позволяющая удобно работать с многомерными массивами и матрицами, содержащая математические функции. Кроме того, NumPy позволяет векторизовать многие вычисления, имеющие место в машинном обучении."
      ]
    },
    {
      "cell_type": "markdown",
      "metadata": {
        "id": "kO9xTG6kq4_N"
      },
      "source": [
        "## Основной класс - `ndarray`\n",
        "\n",
        "Основной класс в `numpy` - `ndarray`, многомерный массив.\n",
        "\n",
        "`ndarray` имеет все преимущества массива, а также обеспечивает быструю обработку без использования относительно медленных циклов Python.\n",
        "\n",
        "Каждый подобный массив имеет несколько измерений или осей — в частности, вектор (в классическом понимании) является одномерным массивом и имеет 1 ось, матрица является двумерным массивом и имеет 2 оси и т.д."
      ]
    },
    {
      "cell_type": "markdown",
      "metadata": {
        "id": "sukBk1tZq4_N"
      },
      "source": [
        "## Импорт `numpy`\n",
        "\n",
        "`import numpy as np`\n",
        "\n",
        "`np` - синоним имени модуля, пространство имен, ссылка для доступа к компонентам модуля\n"
      ]
    },
    {
      "cell_type": "code",
      "execution_count": null,
      "metadata": {
        "id": "P8csi6ypq4_O"
      },
      "outputs": [],
      "source": [
        "import numpy as np"
      ]
    },
    {
      "cell_type": "markdown",
      "metadata": {
        "id": "c6FMMFluq4_P"
      },
      "source": [
        "## Способы создания массива\n",
        "\n",
        "- `np.array(obj, dtype, ...)` - преобразование из списка, кортежа, генератора, другого массива, ...\n",
        "    - `obj` - объект, который нужно преобразовать\n",
        "    - `dtype` - тип элемента массива\n",
        "- функции `numpy`\n",
        "- операции с массивами"
      ]
    },
    {
      "cell_type": "code",
      "execution_count": null,
      "metadata": {
        "colab": {
          "base_uri": "https://localhost:8080/"
        },
        "id": "rgPYHlC2q4_Q",
        "outputId": "4e6359f4-d90b-4f20-c699-87bd260ee223"
      },
      "outputs": [
        {
          "output_type": "execute_result",
          "data": {
            "text/plain": [
              "array([1, 2, 3])"
            ]
          },
          "metadata": {},
          "execution_count": 68
        }
      ],
      "source": [
        "# одномерный массив из списка и кортежа\n",
        "x = np.array([1, 2, 3])\n",
        "x"
      ]
    },
    {
      "cell_type": "code",
      "execution_count": null,
      "metadata": {
        "colab": {
          "base_uri": "https://localhost:8080/"
        },
        "id": "aAJ-UFJYq4_R",
        "outputId": "c06e367e-d4de-47f1-a8b6-77cdff5e6278"
      },
      "outputs": [
        {
          "output_type": "execute_result",
          "data": {
            "text/plain": [
              "numpy.ndarray"
            ]
          },
          "metadata": {},
          "execution_count": 69
        }
      ],
      "source": [
        "# получили объект типа numpy.ndarray\n",
        "type(x)"
      ]
    },
    {
      "cell_type": "code",
      "execution_count": null,
      "metadata": {
        "colab": {
          "base_uri": "https://localhost:8080/"
        },
        "id": "v30_rnEQq4_R",
        "outputId": "ffd054f6-9ca1-4845-f74b-52fbc27ef6a6"
      },
      "outputs": [
        {
          "output_type": "execute_result",
          "data": {
            "text/plain": [
              "array([ 0,  1,  2,  3,  4,  5,  6,  7,  8,  9, 10, 11, 12])"
            ]
          },
          "metadata": {},
          "execution_count": 70
        }
      ],
      "source": [
        "# преобразование из генератора\n",
        "np.array(range(13))"
      ]
    },
    {
      "cell_type": "code",
      "execution_count": null,
      "metadata": {
        "colab": {
          "base_uri": "https://localhost:8080/"
        },
        "id": "wHX3QN0Yq4_S",
        "outputId": "df190a04-cf0c-4066-a7ec-2a7fb2b8a757"
      },
      "outputs": [
        {
          "output_type": "execute_result",
          "data": {
            "text/plain": [
              "array([  0,   1,   4,   9,  16,  25,  36,  49,  64,  81, 100, 121, 144])"
            ]
          },
          "metadata": {},
          "execution_count": 73
        }
      ],
      "source": [
        "# преобразование из генератора списка\n",
        "np.array([x**2 for x in range(13)])"
      ]
    },
    {
      "cell_type": "markdown",
      "metadata": {
        "id": "pBcvN_MKq4_S"
      },
      "source": [
        "## Типы элементов массива\n",
        "\n",
        "В отличие от чистого Python`а с динамической типизацией в NumPy типизация статическая, как в C/C++. Поэтому у каждого многомерного массива должен быть тип элементов, который обычно можно указать явно с помощью параметра dtype. К тому же, все элементы в массиве должны быть одного типа.\n",
        "\n",
        "Встроенные типы `Python`:\n",
        "\n",
        "- `int`, `bool`, `float`, `complex`, `str`, ...\n",
        "\n",
        "Типы `numpy`:\n",
        "\n",
        "- `np.int0`, `np.int8`, `np.int16`, `np.int32`, `np.int64`\n",
        "- `np.float`, `np.float16`, `np.float32`, `np.float64`\n",
        "- `np.complex`, `np.complex64`, `np.complex128`\n",
        "\n",
        "Также можно задать тип, эквивалентный `struct` в языке Си, т.е. упорядоченный набор из разнотипных элементов, занимающих жестко фиксированное количество байт."
      ]
    },
    {
      "cell_type": "markdown",
      "metadata": {
        "id": "p1emQjhHq4_T"
      },
      "source": [
        "\n",
        "Здесь без явного указания массив будет состоять из целых чисел:"
      ]
    },
    {
      "cell_type": "code",
      "execution_count": null,
      "metadata": {
        "colab": {
          "base_uri": "https://localhost:8080/"
        },
        "id": "HLgYo3mkq4_U",
        "outputId": "42818c27-b9e7-4d0c-d57f-4364e4b74c0e"
      },
      "outputs": [
        {
          "output_type": "execute_result",
          "data": {
            "text/plain": [
              "array([[1., 2., 3.],\n",
              "       [1., 2., 3.]])"
            ]
          },
          "metadata": {},
          "execution_count": 74
        }
      ],
      "source": [
        "np.array([[1, 2, 3], [1, 2, 3]], dtype=float)"
      ]
    },
    {
      "cell_type": "markdown",
      "metadata": {
        "id": "B09Uz4Olq4_U"
      },
      "source": [
        "Доступна и бóльшая экзотика. Например, можно потребовать, чтобы массив состоял из 16-битных чисел с плавающей точкой. Но в курсе нам будет достаточно простых типов int, float, bool."
      ]
    },
    {
      "cell_type": "code",
      "execution_count": null,
      "metadata": {
        "colab": {
          "base_uri": "https://localhost:8080/"
        },
        "id": "LMdyW4_dq4_V",
        "outputId": "956826c9-809d-49cc-e020-8f032ad3d456"
      },
      "outputs": [
        {
          "output_type": "execute_result",
          "data": {
            "text/plain": [
              "array([[1., 2., 3.],\n",
              "       [1., 2., 3.]], dtype=float16)"
            ]
          },
          "metadata": {},
          "execution_count": 75
        }
      ],
      "source": [
        "np.array([[1, 2, 3], [1, 2, 3]], dtype=np.float16)"
      ]
    },
    {
      "cell_type": "markdown",
      "metadata": {
        "id": "YpOVCy-iq4_W"
      },
      "source": [
        "Ещё можно создавать массив определённого размера из нулей:"
      ]
    },
    {
      "cell_type": "code",
      "execution_count": null,
      "metadata": {
        "colab": {
          "base_uri": "https://localhost:8080/"
        },
        "id": "znPw9hilq4_W",
        "outputId": "98f41586-e117-4980-9df6-c881393e8fbe"
      },
      "outputs": [
        {
          "output_type": "execute_result",
          "data": {
            "text/plain": [
              "array([[0, 0, 0, 0],\n",
              "       [0, 0, 0, 0],\n",
              "       [0, 0, 0, 0]])"
            ]
          },
          "metadata": {},
          "execution_count": 76
        }
      ],
      "source": [
        "arr = np.zeros((3, 4), dtype=int)\n",
        "arr"
      ]
    },
    {
      "cell_type": "markdown",
      "metadata": {
        "id": "f7tJe4Jwq4_X"
      },
      "source": [
        "... единиц:"
      ]
    },
    {
      "cell_type": "code",
      "execution_count": null,
      "metadata": {
        "colab": {
          "base_uri": "https://localhost:8080/"
        },
        "id": "i-No4_hOq4_Y",
        "outputId": "232dab19-a2bf-4256-c287-cb4f88e09777"
      },
      "outputs": [
        {
          "output_type": "execute_result",
          "data": {
            "text/plain": [
              "array([[1., 1., 1., 1.],\n",
              "       [1., 1., 1., 1.],\n",
              "       [1., 1., 1., 1.]])"
            ]
          },
          "metadata": {},
          "execution_count": 77
        }
      ],
      "source": [
        "np.ones((3, 4))"
      ]
    },
    {
      "cell_type": "markdown",
      "metadata": {
        "id": "YhE2Unqtq4_Y"
      },
      "source": [
        "... вообще из чего угодно:\n",
        "\n"
      ]
    },
    {
      "cell_type": "code",
      "execution_count": null,
      "metadata": {
        "colab": {
          "base_uri": "https://localhost:8080/"
        },
        "id": "uvr__BTFq4_Z",
        "outputId": "f7344b97-1fae-44df-e58e-a5f85462e564"
      },
      "outputs": [
        {
          "output_type": "execute_result",
          "data": {
            "text/plain": [
              "array([[5, 5, 5, 5],\n",
              "       [5, 5, 5, 5],\n",
              "       [5, 5, 5, 5]])"
            ]
          },
          "metadata": {},
          "execution_count": 78
        }
      ],
      "source": [
        "np.full((3, 4), 5, dtype=int)"
      ]
    },
    {
      "cell_type": "markdown",
      "metadata": {
        "id": "z2x3Ixmaq4_Z"
      },
      "source": [
        "... а память просто выделять, не инициализируя:"
      ]
    },
    {
      "cell_type": "code",
      "execution_count": null,
      "metadata": {
        "colab": {
          "base_uri": "https://localhost:8080/"
        },
        "id": "uV-ucmq3q4_a",
        "outputId": "f6b7c735-4c47-4046-f3b0-52a5bacda056"
      },
      "outputs": [
        {
          "output_type": "execute_result",
          "data": {
            "text/plain": [
              "array([[0. , 0. , 0.3, 1. ],\n",
              "       [0. , 0. , 1. , 1. ],\n",
              "       [1. , 1. , 1. , 1. ],\n",
              "       [1. , 0. , 0. , 1. ],\n",
              "       [0.5, 0. , 0. , 1. ]])"
            ]
          },
          "metadata": {},
          "execution_count": 79
        }
      ],
      "source": [
        "np.empty((5, 4))"
      ]
    },
    {
      "cell_type": "code",
      "execution_count": null,
      "metadata": {
        "colab": {
          "base_uri": "https://localhost:8080/"
        },
        "id": "CiKhjN5kq4_b",
        "outputId": "bcf87400-2e9d-4e2e-e86e-a98544bcd6c9"
      },
      "outputs": [
        {
          "output_type": "stream",
          "name": "stdout",
          "text": [
            "array([0, 1, 2, 3])\n",
            "array([0., 1., 2., 3.])\n",
            "array([False,  True,  True,  True])\n"
          ]
        }
      ],
      "source": [
        "# массив с элементами разных типов\n",
        "for dtype in (int, float, bool):\n",
        "    print('%r' % np.array([0, 1, 2, 3], dtype=dtype))"
      ]
    },
    {
      "cell_type": "code",
      "execution_count": null,
      "metadata": {
        "colab": {
          "base_uri": "https://localhost:8080/"
        },
        "id": "Isb0USX9q4_b",
        "outputId": "0d690494-7d4d-475c-8199-c639b380e917"
      },
      "outputs": [
        {
          "output_type": "stream",
          "name": "stdout",
          "text": [
            "<class 'numpy.int64'>\n",
            "array([0, 1, 2, 3])\n",
            "memory size: 32\n",
            "\n",
            "<class 'numpy.int8'>\n",
            "array([0, 1, 2, 3], dtype=int8)\n",
            "memory size: 4\n",
            "\n",
            "<class 'numpy.int16'>\n",
            "array([0, 1, 2, 3], dtype=int16)\n",
            "memory size: 8\n",
            "\n",
            "<class 'numpy.int32'>\n",
            "array([0, 1, 2, 3], dtype=int32)\n",
            "memory size: 16\n",
            "\n"
          ]
        },
        {
          "output_type": "stream",
          "name": "stderr",
          "text": [
            "<ipython-input-81-31ce702e982f>:2: DeprecationWarning: `np.int0` is a deprecated alias for `np.intp`.  (Deprecated NumPy 1.24)\n",
            "  for dtype in (np.int0, np.int8, np.int16, np.int32):\n"
          ]
        }
      ],
      "source": [
        "# массив с элементами разных типов\n",
        "for dtype in (np.int0, np.int8, np.int16, np.int32):\n",
        "    arr = np.array([0, 1, 2, 3], dtype=dtype)\n",
        "    print(dtype)\n",
        "    print('%r' % arr)\n",
        "    print('memory size:', arr.nbytes, end='\\n'*2)"
      ]
    },
    {
      "cell_type": "markdown",
      "metadata": {
        "id": "P96SCI0Uq4_c"
      },
      "source": [
        "## Атрибуты массива\n",
        "\n",
        "- `arr.shape` - размеры массива = его форма (кортеж)\n",
        "- `arr.size` - количество элементов массива\n",
        "- `arr.dtype` - тип элемента массива\n",
        "- `arr.ndim` - количество измерений массива (целое число > 0)\n",
        "- `arr.strides` - шаги в байтах для перехода к следующему элементу измерения (кортеж)\n",
        "- `arr.nbytes` - размер занимаемой памяти в байтах"
      ]
    },
    {
      "cell_type": "code",
      "execution_count": null,
      "metadata": {
        "colab": {
          "base_uri": "https://localhost:8080/"
        },
        "id": "BxUrF8-Qq4_d",
        "outputId": "a157fcbf-d9f5-4ed3-f117-a3b11131f646"
      },
      "outputs": [
        {
          "output_type": "execute_result",
          "data": {
            "text/plain": [
              "array([ 0,  1,  2,  3,  4,  5,  6,  7,  8,  9, 10, 11])"
            ]
          },
          "metadata": {},
          "execution_count": 82
        }
      ],
      "source": [
        "arr = np.array(range(12))\n",
        "arr"
      ]
    },
    {
      "cell_type": "code",
      "execution_count": null,
      "metadata": {
        "colab": {
          "base_uri": "https://localhost:8080/"
        },
        "id": "ySBV5mQPq4_e",
        "outputId": "22a2127d-051b-4057-95f7-70c30c4ede38"
      },
      "outputs": [
        {
          "output_type": "execute_result",
          "data": {
            "text/plain": [
              "(1, 12, dtype('int64'), (12,), (8,), 96)"
            ]
          },
          "metadata": {},
          "execution_count": 83
        }
      ],
      "source": [
        "arr.ndim, arr.size, arr.dtype, arr.shape, arr.strides, arr.nbytes"
      ]
    },
    {
      "cell_type": "markdown",
      "metadata": {
        "id": "r9v_RRfnq4_f"
      },
      "source": [
        "Изменять «размерность» массива можно с помощью метода reshape. Для этого, конечно, произведение размерностей должно равняться количеству элементов массива."
      ]
    },
    {
      "cell_type": "code",
      "execution_count": null,
      "metadata": {
        "colab": {
          "base_uri": "https://localhost:8080/"
        },
        "id": "MQxJs0coq4_g",
        "outputId": "e38dda54-c8b5-45ed-e3f7-c6c6d1db08e7"
      },
      "outputs": [
        {
          "output_type": "execute_result",
          "data": {
            "text/plain": [
              "array([[ 0,  1,  2],\n",
              "       [ 3,  4,  5],\n",
              "       [ 6,  7,  8],\n",
              "       [ 9, 10, 11]])"
            ]
          },
          "metadata": {},
          "execution_count": 88
        }
      ],
      "source": [
        "arr = arr.reshape(4, 3)\n",
        "arr"
      ]
    },
    {
      "cell_type": "markdown",
      "metadata": {
        "id": "bTGw_M1Kq4_h"
      },
      "source": [
        "Вместо количества элементов по одной «размерности» можно указать -1, и тогда NumPy сам посчитает это число:"
      ]
    },
    {
      "cell_type": "code",
      "execution_count": null,
      "metadata": {
        "colab": {
          "base_uri": "https://localhost:8080/"
        },
        "id": "ESjdSghwq4_h",
        "outputId": "140aef44-066f-4684-a667-4a07e3c48baa"
      },
      "outputs": [
        {
          "output_type": "execute_result",
          "data": {
            "text/plain": [
              "array([[ 0,  1,  2],\n",
              "       [ 3,  4,  5],\n",
              "       [ 6,  7,  8],\n",
              "       [ 9, 10, 11]])"
            ]
          },
          "metadata": {},
          "execution_count": 89
        }
      ],
      "source": [
        "arr = arr.reshape(4, -1)\n",
        "arr"
      ]
    },
    {
      "cell_type": "markdown",
      "metadata": {
        "id": "auzi_VKKq4_i"
      },
      "source": [
        "Ещё одна полезная функция — np.arange(...), которая по сути эквивалентна запуску np.array(range(...)).\n",
        "\n",
        "Полученный одномерный массив удобно превращать в матрицу с помощью reshape:"
      ]
    },
    {
      "cell_type": "code",
      "execution_count": null,
      "metadata": {
        "colab": {
          "base_uri": "https://localhost:8080/"
        },
        "id": "30dX4e71q4_j",
        "outputId": "86136a99-e57c-4f9f-abc9-6ab4e4ec49c7"
      },
      "outputs": [
        {
          "output_type": "execute_result",
          "data": {
            "text/plain": [
              "array([[ 0,  1,  2,  3,  4],\n",
              "       [ 5,  6,  7,  8,  9],\n",
              "       [10, 11, 12, 13, 14],\n",
              "       [15, 16, 17, 18, 19],\n",
              "       [20, 21, 22, 23, 24]])"
            ]
          },
          "metadata": {},
          "execution_count": 90
        }
      ],
      "source": [
        "np.arange(25).reshape(5, 5)"
      ]
    },
    {
      "cell_type": "markdown",
      "metadata": {
        "id": "uG_67UxTq4_j"
      },
      "source": [
        "К тому же, можно генерировать матрицы из вероятностных распределений."
      ]
    },
    {
      "cell_type": "markdown",
      "metadata": {
        "id": "PY57SGE1q4_k"
      },
      "source": [
        "Вот матрица размера $3 \\times 4$ из $\\mathcal{N}(0,10)$:"
      ]
    },
    {
      "cell_type": "code",
      "execution_count": null,
      "metadata": {
        "colab": {
          "base_uri": "https://localhost:8080/"
        },
        "id": "XvdByFNGq4_k",
        "outputId": "40dd2e09-4cf1-4448-8e35-e01018868afa"
      },
      "outputs": [
        {
          "output_type": "execute_result",
          "data": {
            "text/plain": [
              "array([[ 0.99227948,  0.02679473,  9.33148704, -3.59295203],\n",
              "       [-0.71283148, -2.45207896, -2.56377464,  3.51006714],\n",
              "       [-4.04890276, -1.52636615,  3.47772214, -5.30978698]])"
            ]
          },
          "metadata": {},
          "execution_count": 91
        }
      ],
      "source": [
        "np.random.normal(0, np.sqrt(10), (3, 4))"
      ]
    }
  ],
  "metadata": {
    "kernelspec": {
      "display_name": "Python 3",
      "language": "python",
      "name": "python3"
    },
    "language_info": {
      "codemirror_mode": {
        "name": "ipython",
        "version": 3
      },
      "file_extension": ".py",
      "mimetype": "text/x-python",
      "name": "python",
      "nbconvert_exporter": "python",
      "pygments_lexer": "ipython3",
      "version": "3.10.6"
    },
    "colab": {
      "provenance": []
    }
  },
  "nbformat": 4,
  "nbformat_minor": 0
}